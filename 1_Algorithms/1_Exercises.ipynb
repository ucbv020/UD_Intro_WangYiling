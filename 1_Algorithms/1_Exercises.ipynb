{
 "cells": [
  {
   "cell_type": "markdown",
   "id": "38e188a5",
   "metadata": {},
   "source": [
    "# Exercise 00\n",
    "Write a piece of code that allocates a list of 20 integers and initializes each element by its index multiplied by 5. Print the result."
   ]
  },
  {
   "cell_type": "code",
   "execution_count": 60,
   "id": "01aa4f35",
   "metadata": {},
   "outputs": [
    {
     "name": "stdout",
     "output_type": "stream",
     "text": [
      "365\n",
      "25\n",
      "85\n",
      "125\n",
      "125\n",
      "500\n",
      "445\n",
      "400\n",
      "470\n",
      "350\n",
      "190\n",
      "135\n",
      "405\n",
      "410\n",
      "150\n",
      "380\n",
      "225\n",
      "195\n",
      "365\n",
      "35\n"
     ]
    }
   ],
   "source": [
    "import random\n",
    "def multiplied5(x):\n",
    "    return x*5\n",
    "i = 1\n",
    "while i < 21:\n",
    "    randomnum = random.randint(1,100)\n",
    "    print(multiplied5(randomnum))\n",
    "    i += 1\n",
    "\n",
    "\n",
    "    "
   ]
  },
  {
   "cell_type": "markdown",
   "id": "529d91ae",
   "metadata": {},
   "source": [
    "# Exercise 01\n",
    "Define a function that takes an integer as input, prints  all integers that it is divisable by, and returns the largest one."
   ]
  },
  {
   "cell_type": "code",
   "execution_count": 1,
   "id": "30e79132",
   "metadata": {},
   "outputs": [
    {
     "name": "stdin",
     "output_type": "stream",
     "text": [
      " 12\n"
     ]
    },
    {
     "name": "stdout",
     "output_type": "stream",
     "text": [
      "6\n"
     ]
    }
   ],
   "source": [
    "i = int(input())\n",
    "\n",
    "result = []\n",
    "for a in range(1,i):\n",
    "    if i % a == 0:\n",
    "        result.append(a)\n",
    "\n",
    "sorted_result = sorted(result)\n",
    "print(sorted_result[-1])\n",
    "\n",
    "\n",
    "    \n",
    " "
   ]
  },
  {
   "cell_type": "markdown",
   "id": "cfbe30d4",
   "metadata": {},
   "source": [
    "# Exercise 02\n",
    "- create a dictionary with 6 keys and values of your choice\n",
    "- write a function that takes a dictionary and a value as input and returns whether the value occurs as a key in the dictionary\n",
    "- write a function that takes a dictionary as input, and returns the dictionary but the keys are swapped with their values (resolve the issue if a value occurs twice!)"
   ]
  },
  {
   "cell_type": "code",
   "execution_count": 28,
   "id": "2123f1c6",
   "metadata": {},
   "outputs": [
    {
     "name": "stdin",
     "output_type": "stream",
     "text": [
      "dict_values(['w', 'y', 'l', 'i', 'n', 'g']) e\n"
     ]
    },
    {
     "name": "stdout",
     "output_type": "stream",
     "text": [
      "sorry cannot find it\n"
     ]
    }
   ],
   "source": [
    "YLDic = {\n",
    "    'num1': 'w',\n",
    "    'num2': 'y',\n",
    "    'num3': 'l',\n",
    "    'num4': 'i',\n",
    "    'num5': 'n',\n",
    "    'num6': 'g'}\n",
    "\n",
    "\n",
    "a = input(YLDic.values())\n",
    "for (x,y) in YLDic.items():\n",
    "    if y == a:\n",
    "        print(x)\n",
    "        \n",
    "if y != a:\n",
    "    print('sorry cannot find it')\n",
    "            \n",
    "\n",
    "      \n",
    "    \n",
    "    "
   ]
  },
  {
   "cell_type": "code",
   "execution_count": 40,
   "id": "9923120b-8d85-451e-a251-20c8d08a0f63",
   "metadata": {},
   "outputs": [
    {
     "name": "stdout",
     "output_type": "stream",
     "text": [
      "set your own dictionary!\n"
     ]
    },
    {
     "name": "stdin",
     "output_type": "stream",
     "text": [
      "key: num1\n",
      "value: 1\n",
      "key: num2\n",
      "value: 2\n",
      "key: num3\n",
      "value: 3\n"
     ]
    },
    {
     "name": "stdout",
     "output_type": "stream",
     "text": [
      "{'1': ['num1'], '2': ['num2'], '3': ['num3']}\n"
     ]
    }
   ],
   "source": [
    "print('set your own dictionary!')\n",
    "a1 = input('key:')\n",
    "b1 = input('value:')\n",
    "a2 = input('key:')\n",
    "b2 = input('value:')\n",
    "a3 = input('key:')\n",
    "b3 = input('value:')\n",
    "\n",
    "Selfdic = {\n",
    "    a1:b1,\n",
    "    a2:b2,\n",
    "    a3:b3}\n",
    "\n",
    "Selfdic2 = {}\n",
    "for m,n in Selfdic.items():\n",
    "    Selfdic2[n] = [m]\n",
    "    \n",
    "print(Selfdic2)"
   ]
  },
  {
   "cell_type": "markdown",
   "id": "b4b4e426",
   "metadata": {},
   "source": [
    "# Exercise 03\n",
    "Define a function that creates a dictionary of the first n fibonacci numbers as values paired with their indices as keys. "
   ]
  },
  {
   "cell_type": "code",
   "execution_count": 55,
   "id": "7845b5a4",
   "metadata": {},
   "outputs": [
    {
     "name": "stdin",
     "output_type": "stream",
     "text": [
      " 5\n"
     ]
    },
    {
     "name": "stdout",
     "output_type": "stream",
     "text": [
      "{'No.1': '1', 'No.2': '1', 'No.3': 2, 'No.4': 3, 'No.5': 5}\n"
     ]
    }
   ],
   "source": [
    "n = int(input())\n",
    "\n",
    "fibonacci_Dic = {\n",
    "    'No.1' : '1',\n",
    "    'No.2' : '1',\n",
    "}\n",
    "a = 1\n",
    "b = 1\n",
    "i = 3\n",
    "while i <= n:\n",
    "    t=a\n",
    "    a=b+t\n",
    "    b=t\n",
    "    fibonacci_Dic[f'No.{i}']=a\n",
    "    i+=1\n",
    "    \n",
    "print(fibonacci_Dic)\n",
    "    "
   ]
  },
  {
   "cell_type": "code",
   "execution_count": 56,
   "id": "0a5ad375-307b-43f4-addc-f6bd863b970b",
   "metadata": {},
   "outputs": [
    {
     "name": "stdout",
     "output_type": "stream",
     "text": [
      "Collecting pygame\n",
      "  Downloading pygame-2.6.1-cp311-cp311-win_amd64.whl.metadata (13 kB)\n",
      "Downloading pygame-2.6.1-cp311-cp311-win_amd64.whl (10.6 MB)\n",
      "   ---------------------------------------- 0.0/10.6 MB ? eta -:--:--\n",
      "   -------------- ------------------------- 3.9/10.6 MB 21.3 MB/s eta 0:00:01\n",
      "   ------------------------------ --------- 8.1/10.6 MB 20.1 MB/s eta 0:00:01\n",
      "   ---------------------------------------- 10.6/10.6 MB 20.1 MB/s eta 0:00:00\n",
      "Installing collected packages: pygame\n",
      "Successfully installed pygame-2.6.1\n"
     ]
    }
   ],
   "source": [
    "!pip install pygame"
   ]
  },
  {
   "cell_type": "code",
   "execution_count": 28,
   "id": "c71b7865-246a-4115-ad31-81a3bb11409d",
   "metadata": {},
   "outputs": [
    {
     "name": "stdout",
     "output_type": "stream",
     "text": [
      "pygame 2.6.1 (SDL 2.28.4, Python 3.11.10)\n",
      "Hello from the pygame community. https://www.pygame.org/contribute.html\n",
      "<VideoInfo(hw = 0, wm = 1,video_mem = 0\n",
      "         blit_hw = 0, blit_hw_CC = 0, blit_hw_A = 0,\n",
      "         blit_sw = 0, blit_sw_CC = 0, blit_sw_A = 0,\n",
      "         bitsize  = 32, bytesize = 4,\n",
      "         masks =  (0x00ff0000, 0x0000ff00, 0x000000ff, 0x00000000),\n",
      "         shifts = (16, 8, 0, 0),\n",
      "         losses =  (0, 0, 0, 8),\n",
      "         current_w = 1920, current_h = 1200\n",
      "         pixel_format = SDL_PIXELFORMAT_RGB888)\n",
      ">\n"
     ]
    },
    {
     "name": "stderr",
     "output_type": "stream",
     "text": [
      "Traceback (most recent call last):\n",
      "  File \"C:\\Users\\yilin\\UD_SkillsIntroduction_2024-main\\1_Algorithms\\Wall_E\\wall_eGame.py\", line 188, in <module>\n",
      "    wallE.walk_around_obstacle()\n",
      "  File \"C:\\Users\\yilin\\UD_SkillsIntroduction_2024-main\\1_Algorithms\\Wall_E\\WallE.py\", line 173, in walk_around_obstacle\n",
      "    if not self.check_wall():\n",
      "           ^^^^^^^^^^^^^^^^^\n",
      "  File \"C:\\Users\\yilin\\UD_SkillsIntroduction_2024-main\\1_Algorithms\\Wall_E\\WallE.py\", line 31, in check_wall\n",
      "    x = self.position[0] + self.direction[0]\n",
      "                           ~~~~~~~~~~~~~~^^^\n",
      "TypeError: 'int' object is not subscriptable\n"
     ]
    }
   ],
   "source": [
    "!python Wall_E/wall_eGame.py"
   ]
  },
  {
   "cell_type": "code",
   "execution_count": null,
   "id": "f573a9d0-eac4-490b-8902-698bebb73a27",
   "metadata": {},
   "outputs": [],
   "source": []
  },
  {
   "cell_type": "code",
   "execution_count": null,
   "id": "b6d104c9-da3c-4a4f-9cce-9a26416f9efd",
   "metadata": {},
   "outputs": [],
   "source": []
  }
 ],
 "metadata": {
  "kernelspec": {
   "display_name": "Python 3 (ipykernel)",
   "language": "python",
   "name": "python3"
  },
  "language_info": {
   "codemirror_mode": {
    "name": "ipython",
    "version": 3
   },
   "file_extension": ".py",
   "mimetype": "text/x-python",
   "name": "python",
   "nbconvert_exporter": "python",
   "pygments_lexer": "ipython3",
   "version": "3.11.10"
  }
 },
 "nbformat": 4,
 "nbformat_minor": 5
}
